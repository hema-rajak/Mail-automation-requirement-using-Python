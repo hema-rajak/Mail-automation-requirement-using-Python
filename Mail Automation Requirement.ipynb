{
 "cells": [
  {
   "cell_type": "markdown",
   "id": "5e005110-568b-4de4-91fb-10f513064f9b",
   "metadata": {},
   "source": [
    "# **Mail automation requirement**\r\n"
   ]
  },
  {
   "cell_type": "markdown",
   "id": "b1cb8617-7899-4121-a5bb-b5a894e883e7",
   "metadata": {},
   "source": [
    "Description : this utility is providing automation of any Mail sent to the user. We will have a list of Mails and Subjects present in the sheet. We need to build a python based utility which will take input of sheet data and it will automatically send mail to that list of mail mentioned in the sheet.\r\n",
    "\r\n",
    "Email Id and Subjects need to be provided in the sheet. The rest of the information is fixed like the Mail message body and attachment is the same for all the mails.\r\n",
    "\r\n",
    "At the end we will have a response sheet where we need to mention mail id with status of Mail delivery (eg Sent successfully, Failed, Pending etc.)"
   ]
  },
  {
   "cell_type": "code",
   "execution_count": 194,
   "id": "9e685902-22b5-431d-bc51-07fcd15dfa7b",
   "metadata": {},
   "outputs": [],
   "source": [
    "# importing necessary libraries\n",
    "import smtplib  # Library for sending emails via SMTP\n",
    "import pandas as pd  # Library for handling spreadsheet data (reading/writing Excel/CSV files)\n",
    "import email  # Library for managing email messages\n",
    "import openpyxl  # Library for handling Excel (.xlsx) files"
   ]
  },
  {
   "cell_type": "code",
   "execution_count": 196,
   "id": "d61e484a-bf15-4c0d-a59c-61174b0130cc",
   "metadata": {},
   "outputs": [],
   "source": [
    "# SMTP server configuration for Gmail\n",
    "SMTP_SERVER = \"smtp.gmail.com\"  # Gmail SMTP server\n",
    "SMTP_PORT = 587  # Port for TLS encryption\n",
    "SENDER_EMAIL = \"hemabutani75@gmail.com\"  # Sender's email address\n",
    "SENDER_PASSWORD = \"vqjd hkoh zapu pdjn\"  # App password for authentication\n",
    "ATTACHMENT_PATH = r\"C:\\Users\\RajakHem\\Desktop\\Power BI project\\My Python Project\\Hema_Butani.pdf\"  # File to attach"
   ]
  },
  {
   "cell_type": "code",
   "execution_count": 181,
   "id": "68e78fd0-ec96-4e2a-b91f-305e8fe5f540",
   "metadata": {},
   "outputs": [],
   "source": [
    "df = pd.read_excel(r\"C:\\Users\\RajakHem\\Desktop\\Power BI project\\My Python Project\\email_list.xlsx\") #uploading excel file having all mail and subject list"
   ]
  },
  {
   "cell_type": "code",
   "execution_count": 198,
   "id": "da57dc4e-0332-4cd0-a15c-084cb6e40f50",
   "metadata": {},
   "outputs": [],
   "source": [
    "from email.mime.multipart import MIMEMultipart  # Used for creating email structure\n",
    "from email.mime.text import MIMEText  # Used to add text content to the email\n",
    "from email.mime.base import MIMEBase  # Used for handling file attachments\n",
    "from email import encoders  # Used to encode file attachments     "
   ]
  },
  {
   "cell_type": "code",
   "execution_count": 200,
   "id": "b960854c-ec9e-44e7-aab0-666c6ce0783b",
   "metadata": {},
   "outputs": [],
   "source": [
    "def send_email(receiver_email, subject):\n",
    "    try:\n",
    "        # # Creating the email message\n",
    "        msg = MIMEMultipart()\n",
    "        msg['From'] = SENDER_EMAIL  # Sender's email address\n",
    "        msg['To'] = receiver_email  # Receiver's email address\n",
    "        msg['Subject'] = subject     # Email subject\n",
    "\n",
    "        # Email Body (Fixed for all)\n",
    "        body = \"I am writing to express my interest in the Data Analyst position. With a background in data analysis, proficiency in statistical techniques, and a passion for deriving actionable insights from complex datasets, I am confident in my ability to contribute effectively to your team.\"\n",
    "        msg.attach(MIMEText(body, 'plain'))\n",
    "\n",
    "        # Adding attachment\n",
    "        try:\n",
    "            attachment = open(ATTACHMENT_PATH, \"rb\")\n",
    "            part = MIMEBase('application', 'octet-stream')  # Creating a binary attachment\n",
    "            part.set_payload(attachment.read()) # Reading the file content\n",
    "            encoders.encode_base64(part)  # Encoding the attachment in base64\n",
    "            part.add_header('Content-Disposition', f\"attachment; filename={ATTACHMENT_PATH.split('/')[-1]}\")\n",
    "            msg.attach(part)\n",
    "            attachment.close()\n",
    "        except Exception as e:\n",
    "            print(f\"Attachment Error: {e}\")\n",
    "\n",
    "    # Establish connection to SMTP server and send email\n",
    "        server = smtplib.SMTP(SMTP_SERVER, SMTP_PORT)\n",
    "        server.starttls()  # Secure the connection\n",
    "        server.login(SENDER_EMAIL, SENDER_PASSWORD) # Login to the email account\n",
    "        server.sendmail(SENDER_EMAIL, receiver_email, msg.as_string())  # Sending the email\n",
    "        server.quit() # Closing the connection\n",
    "\n",
    "        return \"Sent successfully\"\n",
    "    except Exception as e:\n",
    "        return f\"Failed: {str(e)}\""
   ]
  },
  {
   "cell_type": "code",
   "execution_count": 202,
   "id": "9c4a6191-e521-4e25-8c94-60622be7afc7",
   "metadata": {},
   "outputs": [
    {
     "name": "stdout",
     "output_type": "stream",
     "text": [
      "Email sending completed. Check email_status.xlsx for results.\n"
     ]
    }
   ],
   "source": [
    "status_list = [] # List to store email statuses\n",
    "\n",
    "for index, row in df.iterrows():\n",
    "    email = row['Email ID'] # Extract recipient's email address from the row\n",
    "    subject = row['Subject']  # Extract email subject from the row\n",
    "    \n",
    "    status = send_email(email, subject) # Call the send_email function and store the result\n",
    "    status_list.append([email, status]) # Append email and status to the list\n",
    "\n",
    "# Convert the list into a DataFrame with two columns: 'Email ID' and 'Status'\n",
    "df_status = pd.DataFrame(status_list, columns=['Email ID', 'Status'])\n",
    "\n",
    "# Save the DataFrame as an Excel file to record the email sending status\n",
    "df_status.to_excel(\"email_status.xlsx\", index=False)\n",
    "\n",
    "# Print message after completion\n",
    "print(\"Email sending completed. Check email_status.xlsx for results.\")\n"
   ]
  },
  {
   "cell_type": "code",
   "execution_count": null,
   "id": "5072ae6b-116c-401b-b52c-e2b6ce617cfc",
   "metadata": {},
   "outputs": [],
   "source": []
  }
 ],
 "metadata": {
  "kernelspec": {
   "display_name": "Python 3 (ipykernel)",
   "language": "python",
   "name": "python3"
  },
  "language_info": {
   "codemirror_mode": {
    "name": "ipython",
    "version": 3
   },
   "file_extension": ".py",
   "mimetype": "text/x-python",
   "name": "python",
   "nbconvert_exporter": "python",
   "pygments_lexer": "ipython3",
   "version": "3.12.4"
  }
 },
 "nbformat": 4,
 "nbformat_minor": 5
}
